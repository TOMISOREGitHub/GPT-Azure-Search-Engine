{
  "cells": [
    {
      "cell_type": "code",
      "source": [
        "# Following this repo example: https://github.com/Azure-Samples/azure-search-python-samples/blob/main/Quickstart/v11/azure-search-quickstart.ipynb\r\n",
        "# Index - https://portal.azure.com/#view/Microsoft_Azure_Search/Index.ReactView/id/%2Fsubscriptions%2F2f8a2563-4e90-4a88-8e6c-56fa0f12cb7e%2FresourceGroups%2FSmart-search%2Fproviders%2FMicrosoft.Search%2FsearchServices%2Fsmart-seach-test1%23azureblob-index/location/East%20US/sku/standard\r\n",
        "# Uncomment the next line if you need to install the azure-search-documents client library:\r\n",
        "!pip install azure-search-documents --pre\r\n"
      ],
      "outputs": [
        {
          "output_type": "stream",
          "name": "stdout",
          "text": "Requirement already satisfied: azure-search-documents in /anaconda/envs/azureml_py38/lib/python3.8/site-packages (11.4.0b3)\r\nRequirement already satisfied: azure-common~=1.1 in /anaconda/envs/azureml_py38/lib/python3.8/site-packages (from azure-search-documents) (1.1.28)\r\nRequirement already satisfied: azure-core<2.0.0,>=1.24.0 in /anaconda/envs/azureml_py38/lib/python3.8/site-packages (from azure-search-documents) (1.26.1)\r\nRequirement already satisfied: isodate>=0.6.0 in /anaconda/envs/azureml_py38/lib/python3.8/site-packages (from azure-search-documents) (0.6.1)\r\nRequirement already satisfied: six>=1.11.0 in /anaconda/envs/azureml_py38/lib/python3.8/site-packages (from azure-core<2.0.0,>=1.24.0->azure-search-documents) (1.16.0)\r\nRequirement already satisfied: requests>=2.18.4 in /anaconda/envs/azureml_py38/lib/python3.8/site-packages (from azure-core<2.0.0,>=1.24.0->azure-search-documents) (2.28.1)\r\nRequirement already satisfied: typing-extensions>=4.0.1 in /anaconda/envs/azureml_py38/lib/python3.8/site-packages (from azure-core<2.0.0,>=1.24.0->azure-search-documents) (4.4.0)\r\nRequirement already satisfied: idna<4,>=2.5 in /anaconda/envs/azureml_py38/lib/python3.8/site-packages (from requests>=2.18.4->azure-core<2.0.0,>=1.24.0->azure-search-documents) (3.4)\r\nRequirement already satisfied: urllib3<1.27,>=1.21.1 in /anaconda/envs/azureml_py38/lib/python3.8/site-packages (from requests>=2.18.4->azure-core<2.0.0,>=1.24.0->azure-search-documents) (1.26.13)\r\nRequirement already satisfied: certifi>=2017.4.17 in /anaconda/envs/azureml_py38/lib/python3.8/site-packages (from requests>=2.18.4->azure-core<2.0.0,>=1.24.0->azure-search-documents) (2022.9.24)\r\nRequirement already satisfied: charset-normalizer<3,>=2 in /anaconda/envs/azureml_py38/lib/python3.8/site-packages (from requests>=2.18.4->azure-core<2.0.0,>=1.24.0->azure-search-documents) (2.1.1)\r\n"
        }
      ],
      "execution_count": 56,
      "metadata": {
        "jupyter": {
          "source_hidden": false,
          "outputs_hidden": false
        },
        "nteract": {
          "transient": {
            "deleting": false
          }
        },
        "gather": {
          "logged": 1677871923471
        }
      }
    },
    {
      "cell_type": "code",
      "source": [
        "\r\n",
        "# This sample uses version: 11.1.0\r\n",
        "!pip show azure-search-documents\r\n",
        "\r\n",
        "import os\r\n",
        "from azure.core.credentials import AzureKeyCredential\r\n",
        "from azure.search.documents.indexes import SearchIndexClient \r\n",
        "from azure.search.documents import SearchClient\r\n",
        "from azure.search.documents.indexes.models import (\r\n",
        "    ComplexField,\r\n",
        "    CorsOptions,\r\n",
        "    SearchIndex,\r\n",
        "    ScoringProfile,\r\n",
        "    SearchFieldDataType,\r\n",
        "    SimpleField,\r\n",
        "    SearchableField\r\n",
        ")"
      ],
      "outputs": [
        {
          "output_type": "stream",
          "name": "stdout",
          "text": "Name: azure-search-documents\r\nVersion: 11.4.0b3\r\nSummary: Microsoft Azure Cognitive Search Client Library for Python\r\nHome-page: https://github.com/Azure/azure-sdk-for-python/tree/main/sdk/search/azure-search-documents\r\nAuthor: Microsoft Corporation\r\nAuthor-email: ascl@microsoft.com\r\nLicense: MIT License\r\nLocation: /anaconda/envs/azureml_py38/lib/python3.8/site-packages\r\nRequires: isodate, azure-common, azure-core\r\nRequired-by: \r\n"
        }
      ],
      "execution_count": 58,
      "metadata": {
        "gather": {
          "logged": 1677871968732
        }
      }
    },
    {
      "cell_type": "code",
      "source": [
        "# Set the service endpoint and API key from the environment\r\n",
        "\r\n",
        "service_name = \"smart-search-test1\" #\"YOUR-SEARCH-SERVICE-NAME\"\r\n",
        "admin_key = \"H7XVHXwrslvcD7TSvcC2PuJqJONRCwPYzPJjeVCvZbAzSeBAR1di\" #\"YOUR-SEARCH-SERVICE-ADMIN-API-KEY\"\r\n",
        "\r\n",
        "index_name = \"azureblob-index\"\r\n",
        "\r\n",
        "# Create an SDK client\r\n",
        "# endpoint = \"https://{}.search.windows.net/\".format(service_name)\r\n",
        "endpoint = \"https://smart-seach-test1.search.windows.net\"\r\n",
        "admin_client = SearchIndexClient(endpoint=endpoint,\r\n",
        "                      index_name=index_name,\r\n",
        "                      credential=AzureKeyCredential(admin_key))\r\n",
        "\r\n",
        "search_client = SearchClient(endpoint=endpoint,\r\n",
        "                      index_name=index_name,\r\n",
        "                      credential=AzureKeyCredential(admin_key))\r\n"
      ],
      "outputs": [],
      "execution_count": 60,
      "metadata": {
        "jupyter": {
          "source_hidden": false,
          "outputs_hidden": false
        },
        "nteract": {
          "transient": {
            "deleting": false
          }
        },
        "gather": {
          "logged": 1677872058547
        }
      }
    },
    {
      "cell_type": "code",
      "source": [
        "# Delete the index if it exists\r\n",
        "try:\r\n",
        "    result = admin_client.delete_index(index_name)\r\n",
        "    print ('Index', index_name, 'Deleted')\r\n",
        "except Exception as ex:\r\n",
        "    print (ex)"
      ],
      "outputs": [
        {
          "output_type": "stream",
          "name": "stdout",
          "text": "Index azureblob-index Deleted\n"
        }
      ],
      "execution_count": 61,
      "metadata": {
        "jupyter": {
          "source_hidden": false,
          "outputs_hidden": false
        },
        "nteract": {
          "transient": {
            "deleting": false
          }
        },
        "gather": {
          "logged": 1677872064375
        }
      }
    },
    {
      "cell_type": "code",
      "source": [
        "# Specify the index schema\r\n",
        "name = index_name\r\n",
        "fields = [\r\n",
        "        SearchableField(name=\"pmid\", type=SearchFieldDataType.String, filterable=True, facetable=True, key=True),\r\n",
        "        SearchableField(name=\"journal\", type=SearchFieldDataType.String, filterable=True, facetable=True, sortable=True),\r\n",
        "        SearchableField(name=\"title\", type=SearchFieldDataType.String, filterable=True, facetable=True, sortable=True),\r\n",
        "        SearchableField(name=\"abstract\", type=SearchFieldDataType.String, filterable=True, facetable=True, sortable=True),\r\n",
        "        \r\n",
        "        SearchableField(name=\"keywords\", collection=True, type=SearchFieldDataType.String, facetable=True, filterable=True, sortable=False),\r\n",
        "        \r\n",
        "        SearchableField(name=\"pub_type\", type=SearchFieldDataType.String, filterable=True, facetable=True, sortable=True),\r\n",
        "        SearchableField(name=\"authors\", type=SearchFieldDataType.String, filterable=True, facetable=True, sortable=True),\r\n",
        "        SearchableField(name=\"doi\", type=SearchFieldDataType.String, facetable=True, filterable=True, sortable=True),\r\n",
        "        SearchableField(name=\"label\", type=SearchFieldDataType.String, facetable=True, filterable=True, sortable=True),\r\n",
        "    \r\n",
        "    ]\r\n",
        "cors_options = CorsOptions(allowed_origins=[\"*\"], max_age_in_seconds=60)\r\n",
        "scoring_profiles = []"
      ],
      "outputs": [],
      "execution_count": 82,
      "metadata": {
        "jupyter": {
          "source_hidden": false,
          "outputs_hidden": false
        },
        "nteract": {
          "transient": {
            "deleting": false
          }
        },
        "gather": {
          "logged": 1677874067988
        }
      }
    },
    {
      "cell_type": "code",
      "source": [
        "# semantic_config = {\r\n",
        "#     \"name\": \"semantic\",\r\n",
        "#     \"searchMode\": \"all\",\r\n",
        "#     \"sourceFields\": [\"title\", \"abstract\"]\r\n",
        "# }\r\n",
        "# search_config = {\"searchFields\": {\"searchableFields\": index_name}, \"queryType\": [semantic_config]}\r\n"
      ],
      "outputs": [],
      "execution_count": 83,
      "metadata": {
        "jupyter": {
          "source_hidden": false,
          "outputs_hidden": false
        },
        "nteract": {
          "transient": {
            "deleting": false
          }
        },
        "gather": {
          "logged": 1677874071473
        }
      }
    },
    {
      "cell_type": "code",
      "source": [
        "index = SearchIndex(\r\n",
        "    name=name,\r\n",
        "    fields=fields,\r\n",
        "    scoring_profiles=scoring_profiles,\r\n",
        "    #suggesters = suggester,\r\n",
        "    cors_options=cors_options,\r\n",
        "    )\r\n",
        "\r\n",
        "try:\r\n",
        "    result = admin_client.create_index(index)\r\n",
        "    print ('Index', result.name, 'created')\r\n",
        "except Exception as ex:\r\n",
        "    print (ex)"
      ],
      "outputs": [
        {
          "output_type": "stream",
          "name": "stdout",
          "text": "(ResourceNameAlreadyInUse) Cannot create index 'azureblob-index' because it already exists.\nCode: ResourceNameAlreadyInUse\nMessage: Cannot create index 'azureblob-index' because it already exists.\nException Details:\t(CannotCreateExistingIndex) Cannot create index 'azureblob-index' because it already exists.\n\tCode: CannotCreateExistingIndex\n\tMessage: Cannot create index 'azureblob-index' because it already exists.\n"
        }
      ],
      "execution_count": 78,
      "metadata": {
        "jupyter": {
          "source_hidden": false,
          "outputs_hidden": false
        },
        "nteract": {
          "transient": {
            "deleting": false
          }
        },
        "gather": {
          "logged": 1677873554786
        }
      }
    },
    {
      "cell_type": "code",
      "source": [
        "\r\n",
        "documents = [\r\n",
        "    {\r\n",
        "    \"@search.action\": \"upload\",\r\n",
        "    \"pmid\": \"32519164\",\r\n",
        "    \"journal\": \"J Thromb Thrombolysis\",\r\n",
        "    \"title\": \"Potential role for tissue factor in the pathogenesis of hypercoagulability associated with in COVID-19.\",\r\n",
        "    \"abstract\": \"In December 2019, a new and highly contagious infectious disease emerged in Wuhan, China. The etiologic agent was identified as a novel coronavirus, now known as Severe Acute Syndrome Coronavirus-2 (SARS-CoV-2). Recent research has revealed that virus entry takes place upon the union of the virus S surface protein with the type I transmembrane metallo-carboxypeptidase, angiotensin converting enzyme 2 (ACE-2) identified on epithelial cells of the host respiratory tract. Virus triggers the synthesis and release of pro-inflammatory cytokines, including IL-6 and TNF-alpha and also promotes downregulation of ACE-2, which promotes a concomitant increase in levels of angiotensin II (AT-II). Both TNF-alpha and AT-II have been implicated in promoting overexpression of tissue factor (TF) in platelets and macrophages. Additionally, the generation of antiphospholipid antibodies associated with COVID-19 may also promote an increase in TF. TF may be a critical mediator associated with the development of thrombotic phenomena in COVID-19, and should be a target for future study.\",\r\n",
        "    \"keywords\": [\"covid-19\",\"il-6\",\"sars-cov-2\",\"tnf-alpha\",\"thrombosis\",\"tissue factor\"],\r\n",
        "    \"pub_type\": \"Journal Article;Review\",\r\n",
        "    \"authors\": \"Bautista-Vargas, Mario;Bonilla-Abadia, Fabio;Canas, Carlos A\",\r\n",
        "    \"doi\": \"10.1007/s11239-020-02172-x\",\r\n",
        "    \"label\": \"Treatment;Mechanism\",\r\n",
        "    },\r\n",
        "    {\r\n",
        "    \"@search.action\": \"upload\",\r\n",
        "    \"pmid\": \"34211701\",\r\n",
        "    \"journal\": \"F1000Res\",\r\n",
        "    \"title\": \"Risk factors for mortality in hospitalized patients with COVID-19 from three hospitals in Peru: a retrospective cohort study.\",\r\n",
        "    \"abstract\": \"BACKGROUND: Peru was one of the countries with the highest COVID-19 mortality worldwide during the first stage of the pandemic. It is then relevant to evaluate the risk factors for mortality in patients hospitalized for COVID-19 in three hospitals in Peru in 2020, from March to May, 2020. Methods: We carried out a retrospective cohort study. The population consisted of patients from three Peruvian hospitals hospitalized for a diagnosis of COVID-19 during the March-May 2020 period. Independent sociodemographic variables, medical history, symptoms, vital functions, laboratory parameters and medical treatment were evaluated. In-hospital mortality was assessed as the outcome. We performed Cox regression models (crude and adjusted) to evaluate risk factors for in-hospital mortality. Hazard ratios (HR) with their respective 95% confidence intervals (95% CI) were calculated. Results: We analyzed 493 hospitalized adults; 72.8% (n=359) were male and the mean age was 63.3 +/- 14.4 years. COVID-19 symptoms appeared on average 7.9 +/- 4.0 days before admission to the hospital, and the mean oxygen saturation on admission was 82.6 +/- 13.8. While 67.6% (n=333) required intensive care unit admission, only 3.3% (n=16) were admitted to this unit, and 60.2% (n=297) of the sample died. In the adjusted regression analysis, it was found that being 60 years old or older (HR=1.57; 95% CI: 1.14-2.15), having two or more comorbidities (HR=1.53; 95% CI: 1.10-2.14), oxygen saturation between 85-80% (HR=2.52; 95% CI: 1.58-4.02), less than 80% (HR=4.59; 95% CI: 3.01-7.00), and being in the middle (HR=1.65; 95% CI: 1.15-2.39) and higher tertile (HR=2.18; 95% CI: 1.51-3.15) of the neutrophil-to-lymphocyte ratio, increased the risk of mortality. Conclusions: The risk factors found agree with what has been described in the literature and allow the identification of vulnerable groups in whom monitoring and early identification of symptoms should be prioritized in order to reduce mortality.\",\r\n",
        "    \"keywords\": [\"adults\",\"covid-19\",\"latin america.\",\"mortality\",\"sars-cov-2\"],\r\n",
        "    \"pub_type\": \"Journal Article;Research Support, Non-U.S. Gov't\",\r\n",
        "    \"authors\": \"Diaz-Velez, Cristian;Urrunaga-Pastor, Diego;Romero-Cerdan, Anthony;Pena-Sanchez, Eric Ricardo;Fernandez Mogollon, Jorge Luis;Cossio Chafloque, Julio Darwin;Marreros Ascoy, Gaston Cristobal;Benites-Zapata, Vicente A\",\r\n",
        "    \"doi\": \"10.12688/f1000research.51474.1\",\r\n",
        "    \"label\": \"Diagnosis;Treatment\",\r\n",
        "    },\r\n",
        "        {\r\n",
        "    \"@search.action\": \"upload\",\r\n",
        "    \"pmid\": \"34367415\",\r\n",
        "    \"journal\": \"Int J Clin Exp Pathol\",\r\n",
        "    \"title\": \"Inflammation in COVID-19: from pathogenesis to treatment.\",\r\n",
        "    \"abstract\": \"The coronavirus disease 2019 (COVID-19) was declared a pandemic in March 2020 by the World Health Organization (WHO). To date, there were > 163 million confirmed cases of COVID-19 and the disease has claimed > 3.3 million lives globally. As with many other diseases, inflammation is a key feature of COVID-19. When inflammation is overwhelming, it may lead to unfavorable outcomes or even death. Scientists all over the world are working tirelessly in search of therapeutic strategies to suppress or modulate inflammation in COVID-19. This review gives an overview of the role of inflammation in COVID-19. It also critically examines the various treatment approaches that target the immune system and inflammation in COVID-19, as well as highlights the key findings in the numerous studies conducted thus far.\",\r\n",
        "    \"keywords\": [\"covid-19\",\"sars-cov-2\",\"cytokine storm\",\"inflammation\",\"pharmacotherapy\"],\r\n",
        "    \"pub_type\": \"Journal Article;Review\",\r\n",
        "    \"authors\": \"Wong, Rebecca S Y\",\r\n",
        "    \"doi\": \"\",\r\n",
        "    \"label\": \"Mechanism;Treatment\",\r\n",
        "    },\r\n",
        "    {\r\n",
        "    \"@search.action\": \"upload\",\r\n",
        "    \"pmid\": \"32691006\",\r\n",
        "    \"journal\": \"J Tradit Complement Med\",\r\n",
        "    \"title\": \"Dietary therapy and herbal medicine for COVID-19 prevention: A review and perspective.\",\r\n",
        "    \"abstract\": \"A novel coronavirus disease (COVID-19), transmitted from humans to humans, has rapidly become the pandemic responsible for the current global health crisis. COVID-19 is caused by severe acute respiratory syndrome coronavirus 2 (SARS-CoV-2), which is said to be of zoonotic origin. This review describes the etiology and signs and symptoms as well as the current allopathic therapy for COVID-19. Additionally, findings of previous studies on the immunomodulatory effects and antiviral activities of particular foods and herbs on influenza virus and coronaviruses have been collated, with the aim of promoting the use of dietary therapy and herbal medicine as COVID-19 preventive therapies, while specific drugs and vaccines are yet to be discovered or are still under development. The volume of existing reports is irrefutable evidence that foods and herbs possess a potential antiviral ability against SARS-CoV-2 and can prevent COVID-19. Foods and herbs could be used as dietary or complementary therapy to prevent infection and strengthen immunity, as antiviral agents for masks, as disinfectants to curb aerosol transmission, or as sanitizing agents to disinfect surfaces. However, these hypotheses need to be experimentally verified for SARS-CoV-2 and COVID-19 patients.\",\r\n",
        "    \"keywords\": [\"covid-19\",\"coronavirus\",\"dietary therapy\",\"herbal medicine\",\"herbs\",\"prevention\",\"sars-cov-2\"],\r\n",
        "    \"pub_type\": \"Journal Article;Review\",\r\n",
        "    \"authors\": \"Panyod, Suraphan;Ho, Chi-Tang;Sheen, Lee-Yan\",\r\n",
        "    \"doi\": \"10.1016/j.jtcme.2020.05.004\",\r\n",
        "    \"label\": \"Treatment;Prevention\",\r\n",
        "    }\r\n",
        "]"
      ],
      "outputs": [],
      "execution_count": 79,
      "metadata": {
        "jupyter": {
          "source_hidden": false,
          "outputs_hidden": false
        },
        "nteract": {
          "transient": {
            "deleting": false
          }
        },
        "gather": {
          "logged": 1677873561855
        }
      }
    },
    {
      "cell_type": "code",
      "source": [
        "try:\r\n",
        "    result = search_client.upload_documents(documents=documents)\r\n",
        "    print(\"Upload of new document succeeded: {}\".format(result[0].succeeded))\r\n",
        "except Exception as ex:\r\n",
        "    print (ex.message)"
      ],
      "outputs": [
        {
          "output_type": "stream",
          "name": "stdout",
          "text": "Upload of new document succeeded: True\n"
        }
      ],
      "execution_count": 85,
      "metadata": {
        "jupyter": {
          "source_hidden": false,
          "outputs_hidden": false
        },
        "nteract": {
          "transient": {
            "deleting": false
          }
        },
        "gather": {
          "logged": 1677874134559
        }
      }
    },
    {
      "cell_type": "code",
      "source": [
        "# Specify a valid semantic configuration for your query\r\n",
        "semantic_config = {\r\n",
        "    \"name\": \"default\",\r\n",
        "    \"queryAlterationEnabled\": True\r\n",
        "}\r\n",
        "#result.parameters[\"semanticConfiguration\"] = semantic_config"
      ],
      "outputs": [],
      "execution_count": 87,
      "metadata": {
        "jupyter": {
          "source_hidden": false,
          "outputs_hidden": false
        },
        "nteract": {
          "transient": {
            "deleting": false
          }
        },
        "gather": {
          "logged": 1677874168823
        }
      }
    },
    {
      "cell_type": "code",
      "source": [
        "results =  search_client.search(search_text=\"J\", include_total_count=True, query_type=\"semantic\", query_language=\"en-us\")\r\n",
        "# query.parameters[\"semanticConfiguration\"] = semantic_config\r\n",
        "\r\n",
        "print ('Total Documents Matching Query:', results.get_count())\r\n",
        "for result in results:\r\n",
        "    print(\"{}: {}\".format(result[\"journal\"], result[\"authors\"]))"
      ],
      "outputs": [
        {
          "output_type": "error",
          "ename": "NameError",
          "evalue": "name 'query' is not defined",
          "traceback": [
            "\u001b[0;31m---------------------------------------------------------------------------\u001b[0m",
            "\u001b[0;31mNameError\u001b[0m                                 Traceback (most recent call last)",
            "Cell \u001b[0;32mIn[93], line 2\u001b[0m\n\u001b[1;32m      1\u001b[0m results \u001b[38;5;241m=\u001b[39m  search_client\u001b[38;5;241m.\u001b[39msearch(search_text\u001b[38;5;241m=\u001b[39m\u001b[38;5;124m\"\u001b[39m\u001b[38;5;124mJ\u001b[39m\u001b[38;5;124m\"\u001b[39m, include_total_count\u001b[38;5;241m=\u001b[39m\u001b[38;5;28;01mTrue\u001b[39;00m, query_type\u001b[38;5;241m=\u001b[39m\u001b[38;5;124m\"\u001b[39m\u001b[38;5;124msemantic\u001b[39m\u001b[38;5;124m\"\u001b[39m, query_language\u001b[38;5;241m=\u001b[39m\u001b[38;5;124m\"\u001b[39m\u001b[38;5;124men-us\u001b[39m\u001b[38;5;124m\"\u001b[39m)\n\u001b[0;32m----> 2\u001b[0m \u001b[43mquery\u001b[49m\u001b[38;5;241m.\u001b[39mparameters[\u001b[38;5;124m\"\u001b[39m\u001b[38;5;124msemanticConfiguration\u001b[39m\u001b[38;5;124m\"\u001b[39m] \u001b[38;5;241m=\u001b[39m semantic_config\n\u001b[1;32m      4\u001b[0m \u001b[38;5;28mprint\u001b[39m (\u001b[38;5;124m'\u001b[39m\u001b[38;5;124mTotal Documents Matching Query:\u001b[39m\u001b[38;5;124m'\u001b[39m, results\u001b[38;5;241m.\u001b[39mget_count())\n\u001b[1;32m      5\u001b[0m \u001b[38;5;28;01mfor\u001b[39;00m result \u001b[38;5;129;01min\u001b[39;00m results:\n",
            "\u001b[0;31mNameError\u001b[0m: name 'query' is not defined"
          ]
        }
      ],
      "execution_count": 93,
      "metadata": {
        "jupyter": {
          "source_hidden": false,
          "outputs_hidden": false
        },
        "nteract": {
          "transient": {
            "deleting": false
          }
        },
        "gather": {
          "logged": 1677874485516
        }
      }
    },
    {
      "cell_type": "code",
      "source": [
        "print(results)"
      ],
      "outputs": [
        {
          "output_type": "stream",
          "name": "stdout",
          "text": "<iterator object azure.core.paging.ItemPaged at 0x7f5ddd7edf40>\n"
        }
      ],
      "execution_count": 54,
      "metadata": {
        "jupyter": {
          "source_hidden": false,
          "outputs_hidden": false
        },
        "nteract": {
          "transient": {
            "deleting": false
          }
        },
        "gather": {
          "logged": 1677871848539
        }
      }
    },
    {
      "cell_type": "code",
      "source": [
        "results =  search_client.search(search_text=\"covid-19\", include_total_count=True, select='journal,abstract,keywords')\r\n",
        "\r\n",
        "print ('Total Documents Matching Query:', results.get_count())\r\n",
        "for result in results:\r\n",
        "    print(\"{}: {}: {}\".format(result[\"journal\"], result[\"abstract\"], result[\"keywords\"]))"
      ],
      "outputs": [
        {
          "output_type": "stream",
          "name": "stdout",
          "text": "Total Documents Matching Query: 4\nJ Tradit Complement Med: A novel coronavirus disease (COVID-19), transmitted from humans to humans, has rapidly become the pandemic responsible for the current global health crisis. COVID-19 is caused by severe acute respiratory syndrome coronavirus 2 (SARS-CoV-2), which is said to be of zoonotic origin. This review describes the etiology and signs and symptoms as well as the current allopathic therapy for COVID-19. Additionally, findings of previous studies on the immunomodulatory effects and antiviral activities of particular foods and herbs on influenza virus and coronaviruses have been collated, with the aim of promoting the use of dietary therapy and herbal medicine as COVID-19 preventive therapies, while specific drugs and vaccines are yet to be discovered or are still under development. The volume of existing reports is irrefutable evidence that foods and herbs possess a potential antiviral ability against SARS-CoV-2 and can prevent COVID-19. Foods and herbs could be used as dietary or complementary therapy to prevent infection and strengthen immunity, as antiviral agents for masks, as disinfectants to curb aerosol transmission, or as sanitizing agents to disinfect surfaces. However, these hypotheses need to be experimentally verified for SARS-CoV-2 and COVID-19 patients.: ['covid-19', 'coronavirus', 'dietary therapy', 'herbal medicine', 'herbs', 'prevention', 'sars-cov-2']\nJ Thromb Thrombolysis: In December 2019, a new and highly contagious infectious disease emerged in Wuhan, China. The etiologic agent was identified as a novel coronavirus, now known as Severe Acute Syndrome Coronavirus-2 (SARS-CoV-2). Recent research has revealed that virus entry takes place upon the union of the virus S surface protein with the type I transmembrane metallo-carboxypeptidase, angiotensin converting enzyme 2 (ACE-2) identified on epithelial cells of the host respiratory tract. Virus triggers the synthesis and release of pro-inflammatory cytokines, including IL-6 and TNF-alpha and also promotes downregulation of ACE-2, which promotes a concomitant increase in levels of angiotensin II (AT-II). Both TNF-alpha and AT-II have been implicated in promoting overexpression of tissue factor (TF) in platelets and macrophages. Additionally, the generation of antiphospholipid antibodies associated with COVID-19 may also promote an increase in TF. TF may be a critical mediator associated with the development of thrombotic phenomena in COVID-19, and should be a target for future study.: ['covid-19', 'il-6', 'sars-cov-2', 'tnf-alpha', 'thrombosis', 'tissue factor']\nInt J Clin Exp Pathol: The coronavirus disease 2019 (COVID-19) was declared a pandemic in March 2020 by the World Health Organization (WHO). To date, there were > 163 million confirmed cases of COVID-19 and the disease has claimed > 3.3 million lives globally. As with many other diseases, inflammation is a key feature of COVID-19. When inflammation is overwhelming, it may lead to unfavorable outcomes or even death. Scientists all over the world are working tirelessly in search of therapeutic strategies to suppress or modulate inflammation in COVID-19. This review gives an overview of the role of inflammation in COVID-19. It also critically examines the various treatment approaches that target the immune system and inflammation in COVID-19, as well as highlights the key findings in the numerous studies conducted thus far.: ['covid-19', 'sars-cov-2', 'cytokine storm', 'inflammation', 'pharmacotherapy']\nF1000Res: BACKGROUND: Peru was one of the countries with the highest COVID-19 mortality worldwide during the first stage of the pandemic. It is then relevant to evaluate the risk factors for mortality in patients hospitalized for COVID-19 in three hospitals in Peru in 2020, from March to May, 2020. Methods: We carried out a retrospective cohort study. The population consisted of patients from three Peruvian hospitals hospitalized for a diagnosis of COVID-19 during the March-May 2020 period. Independent sociodemographic variables, medical history, symptoms, vital functions, laboratory parameters and medical treatment were evaluated. In-hospital mortality was assessed as the outcome. We performed Cox regression models (crude and adjusted) to evaluate risk factors for in-hospital mortality. Hazard ratios (HR) with their respective 95% confidence intervals (95% CI) were calculated. Results: We analyzed 493 hospitalized adults; 72.8% (n=359) were male and the mean age was 63.3 +/- 14.4 years. COVID-19 symptoms appeared on average 7.9 +/- 4.0 days before admission to the hospital, and the mean oxygen saturation on admission was 82.6 +/- 13.8. While 67.6% (n=333) required intensive care unit admission, only 3.3% (n=16) were admitted to this unit, and 60.2% (n=297) of the sample died. In the adjusted regression analysis, it was found that being 60 years old or older (HR=1.57; 95% CI: 1.14-2.15), having two or more comorbidities (HR=1.53; 95% CI: 1.10-2.14), oxygen saturation between 85-80% (HR=2.52; 95% CI: 1.58-4.02), less than 80% (HR=4.59; 95% CI: 3.01-7.00), and being in the middle (HR=1.65; 95% CI: 1.15-2.39) and higher tertile (HR=2.18; 95% CI: 1.51-3.15) of the neutrophil-to-lymphocyte ratio, increased the risk of mortality. Conclusions: The risk factors found agree with what has been described in the literature and allow the identification of vulnerable groups in whom monitoring and early identification of symptoms should be prioritized in order to reduce mortality.: ['adults', 'covid-19', 'latin america.', 'mortality', 'sars-cov-2']\n"
        }
      ],
      "execution_count": 67,
      "metadata": {
        "jupyter": {
          "source_hidden": false,
          "outputs_hidden": false
        },
        "nteract": {
          "transient": {
            "deleting": false
          }
        },
        "gather": {
          "logged": 1677872152765
        }
      }
    },
    {
      "cell_type": "code",
      "source": [
        "# results =  search_client.search(search_text=\"*\", facets=[\"Category\"])\r\n",
        "\r\n",
        "# facets = results.get_facets()\r\n",
        "\r\n",
        "# for facet in facets[\"Category\"]:\r\n",
        "#     print(\"    {}\".format(facet))"
      ],
      "outputs": [],
      "execution_count": 69,
      "metadata": {
        "jupyter": {
          "source_hidden": false,
          "outputs_hidden": false
        },
        "nteract": {
          "transient": {
            "deleting": false
          }
        },
        "gather": {
          "logged": 1677872274187
        }
      }
    },
    {
      "cell_type": "code",
      "source": [
        "result = search_client.get_document(key=\"3\")\r\n",
        "\r\n",
        "print(\"Details for journal '3' are:\")\r\n",
        "print(\"        Name: {}\".format(result[\"journal\"]))\r\n",
        "print(\"      Author: {}\".format(result[\"authors\"]))\r\n",
        "#print(\"    Category: {}\".format(result[\"Category\"]))"
      ],
      "outputs": [
        {
          "output_type": "error",
          "ename": "ResourceNotFoundError",
          "evalue": "Operation returned an invalid status 'Not Found'",
          "traceback": [
            "\u001b[0;31m---------------------------------------------------------------------------\u001b[0m",
            "\u001b[0;31mResourceNotFoundError\u001b[0m                     Traceback (most recent call last)",
            "Cell \u001b[0;32mIn[70], line 1\u001b[0m\n\u001b[0;32m----> 1\u001b[0m result \u001b[38;5;241m=\u001b[39m \u001b[43msearch_client\u001b[49m\u001b[38;5;241;43m.\u001b[39;49m\u001b[43mget_document\u001b[49m\u001b[43m(\u001b[49m\u001b[43mkey\u001b[49m\u001b[38;5;241;43m=\u001b[39;49m\u001b[38;5;124;43m\"\u001b[39;49m\u001b[38;5;124;43m3\u001b[39;49m\u001b[38;5;124;43m\"\u001b[39;49m\u001b[43m)\u001b[49m\n\u001b[1;32m      3\u001b[0m \u001b[38;5;28mprint\u001b[39m(\u001b[38;5;124m\"\u001b[39m\u001b[38;5;124mDetails for journal \u001b[39m\u001b[38;5;124m'\u001b[39m\u001b[38;5;124m3\u001b[39m\u001b[38;5;124m'\u001b[39m\u001b[38;5;124m are:\u001b[39m\u001b[38;5;124m\"\u001b[39m)\n\u001b[1;32m      4\u001b[0m \u001b[38;5;28mprint\u001b[39m(\u001b[38;5;124m\"\u001b[39m\u001b[38;5;124m        Name: \u001b[39m\u001b[38;5;132;01m{}\u001b[39;00m\u001b[38;5;124m\"\u001b[39m\u001b[38;5;241m.\u001b[39mformat(result[\u001b[38;5;124m\"\u001b[39m\u001b[38;5;124mjournal\u001b[39m\u001b[38;5;124m\"\u001b[39m]))\n",
            "File \u001b[0;32m/anaconda/envs/azureml_py38/lib/python3.8/site-packages/azure/core/tracing/decorator.py:78\u001b[0m, in \u001b[0;36mdistributed_trace.<locals>.decorator.<locals>.wrapper_use_tracer\u001b[0;34m(*args, **kwargs)\u001b[0m\n\u001b[1;32m     76\u001b[0m span_impl_type \u001b[38;5;241m=\u001b[39m settings\u001b[38;5;241m.\u001b[39mtracing_implementation()\n\u001b[1;32m     77\u001b[0m \u001b[38;5;28;01mif\u001b[39;00m span_impl_type \u001b[38;5;129;01mis\u001b[39;00m \u001b[38;5;28;01mNone\u001b[39;00m:\n\u001b[0;32m---> 78\u001b[0m     \u001b[38;5;28;01mreturn\u001b[39;00m \u001b[43mfunc\u001b[49m\u001b[43m(\u001b[49m\u001b[38;5;241;43m*\u001b[39;49m\u001b[43margs\u001b[49m\u001b[43m,\u001b[49m\u001b[43m \u001b[49m\u001b[38;5;241;43m*\u001b[39;49m\u001b[38;5;241;43m*\u001b[39;49m\u001b[43mkwargs\u001b[49m\u001b[43m)\u001b[49m\n\u001b[1;32m     80\u001b[0m \u001b[38;5;66;03m# Merge span is parameter is set, but only if no explicit parent are passed\u001b[39;00m\n\u001b[1;32m     81\u001b[0m \u001b[38;5;28;01mif\u001b[39;00m merge_span \u001b[38;5;129;01mand\u001b[39;00m \u001b[38;5;129;01mnot\u001b[39;00m passed_in_parent:\n",
            "File \u001b[0;32m/anaconda/envs/azureml_py38/lib/python3.8/site-packages/azure/search/documents/_search_client.py:130\u001b[0m, in \u001b[0;36mSearchClient.get_document\u001b[0;34m(self, key, selected_fields, **kwargs)\u001b[0m\n\u001b[1;32m    112\u001b[0m \u001b[38;5;124;03m\"\"\"Retrieve a document from the Azure search index by its key.\u001b[39;00m\n\u001b[1;32m    113\u001b[0m \n\u001b[1;32m    114\u001b[0m \u001b[38;5;124;03m:param key: The primary key value for the document to retrieve\u001b[39;00m\n\u001b[0;32m   (...)\u001b[0m\n\u001b[1;32m    127\u001b[0m \u001b[38;5;124;03m        :caption: Get a specific document from the search index.\u001b[39;00m\n\u001b[1;32m    128\u001b[0m \u001b[38;5;124;03m\"\"\"\u001b[39;00m\n\u001b[1;32m    129\u001b[0m kwargs[\u001b[38;5;124m\"\u001b[39m\u001b[38;5;124mheaders\u001b[39m\u001b[38;5;124m\"\u001b[39m] \u001b[38;5;241m=\u001b[39m \u001b[38;5;28mself\u001b[39m\u001b[38;5;241m.\u001b[39m_merge_client_headers(kwargs\u001b[38;5;241m.\u001b[39mget(\u001b[38;5;124m\"\u001b[39m\u001b[38;5;124mheaders\u001b[39m\u001b[38;5;124m\"\u001b[39m))\n\u001b[0;32m--> 130\u001b[0m result \u001b[38;5;241m=\u001b[39m \u001b[38;5;28;43mself\u001b[39;49m\u001b[38;5;241;43m.\u001b[39;49m\u001b[43m_client\u001b[49m\u001b[38;5;241;43m.\u001b[39;49m\u001b[43mdocuments\u001b[49m\u001b[38;5;241;43m.\u001b[39;49m\u001b[43mget\u001b[49m\u001b[43m(\u001b[49m\n\u001b[1;32m    131\u001b[0m \u001b[43m    \u001b[49m\u001b[43mkey\u001b[49m\u001b[38;5;241;43m=\u001b[39;49m\u001b[43mkey\u001b[49m\u001b[43m,\u001b[49m\u001b[43m \u001b[49m\u001b[43mselected_fields\u001b[49m\u001b[38;5;241;43m=\u001b[39;49m\u001b[43mselected_fields\u001b[49m\u001b[43m,\u001b[49m\u001b[43m \u001b[49m\u001b[38;5;241;43m*\u001b[39;49m\u001b[38;5;241;43m*\u001b[39;49m\u001b[43mkwargs\u001b[49m\n\u001b[1;32m    132\u001b[0m \u001b[43m\u001b[49m\u001b[43m)\u001b[49m\n\u001b[1;32m    133\u001b[0m \u001b[38;5;28;01mreturn\u001b[39;00m cast(\u001b[38;5;28mdict\u001b[39m, result)\n",
            "File \u001b[0;32m/anaconda/envs/azureml_py38/lib/python3.8/site-packages/azure/core/tracing/decorator.py:78\u001b[0m, in \u001b[0;36mdistributed_trace.<locals>.decorator.<locals>.wrapper_use_tracer\u001b[0;34m(*args, **kwargs)\u001b[0m\n\u001b[1;32m     76\u001b[0m span_impl_type \u001b[38;5;241m=\u001b[39m settings\u001b[38;5;241m.\u001b[39mtracing_implementation()\n\u001b[1;32m     77\u001b[0m \u001b[38;5;28;01mif\u001b[39;00m span_impl_type \u001b[38;5;129;01mis\u001b[39;00m \u001b[38;5;28;01mNone\u001b[39;00m:\n\u001b[0;32m---> 78\u001b[0m     \u001b[38;5;28;01mreturn\u001b[39;00m \u001b[43mfunc\u001b[49m\u001b[43m(\u001b[49m\u001b[38;5;241;43m*\u001b[39;49m\u001b[43margs\u001b[49m\u001b[43m,\u001b[49m\u001b[43m \u001b[49m\u001b[38;5;241;43m*\u001b[39;49m\u001b[38;5;241;43m*\u001b[39;49m\u001b[43mkwargs\u001b[49m\u001b[43m)\u001b[49m\n\u001b[1;32m     80\u001b[0m \u001b[38;5;66;03m# Merge span is parameter is set, but only if no explicit parent are passed\u001b[39;00m\n\u001b[1;32m     81\u001b[0m \u001b[38;5;28;01mif\u001b[39;00m merge_span \u001b[38;5;129;01mand\u001b[39;00m \u001b[38;5;129;01mnot\u001b[39;00m passed_in_parent:\n",
            "File \u001b[0;32m/anaconda/envs/azureml_py38/lib/python3.8/site-packages/azure/search/documents/_generated/operations/_documents_operations.py:858\u001b[0m, in \u001b[0;36mDocumentsOperations.get\u001b[0;34m(self, key, selected_fields, request_options, **kwargs)\u001b[0m\n\u001b[1;32m    855\u001b[0m response \u001b[38;5;241m=\u001b[39m pipeline_response\u001b[38;5;241m.\u001b[39mhttp_response\n\u001b[1;32m    857\u001b[0m \u001b[38;5;28;01mif\u001b[39;00m response\u001b[38;5;241m.\u001b[39mstatus_code \u001b[38;5;129;01mnot\u001b[39;00m \u001b[38;5;129;01min\u001b[39;00m [\u001b[38;5;241m200\u001b[39m]:\n\u001b[0;32m--> 858\u001b[0m     \u001b[43mmap_error\u001b[49m\u001b[43m(\u001b[49m\u001b[43mstatus_code\u001b[49m\u001b[38;5;241;43m=\u001b[39;49m\u001b[43mresponse\u001b[49m\u001b[38;5;241;43m.\u001b[39;49m\u001b[43mstatus_code\u001b[49m\u001b[43m,\u001b[49m\u001b[43m \u001b[49m\u001b[43mresponse\u001b[49m\u001b[38;5;241;43m=\u001b[39;49m\u001b[43mresponse\u001b[49m\u001b[43m,\u001b[49m\u001b[43m \u001b[49m\u001b[43merror_map\u001b[49m\u001b[38;5;241;43m=\u001b[39;49m\u001b[43merror_map\u001b[49m\u001b[43m)\u001b[49m\n\u001b[1;32m    859\u001b[0m     error \u001b[38;5;241m=\u001b[39m \u001b[38;5;28mself\u001b[39m\u001b[38;5;241m.\u001b[39m_deserialize\u001b[38;5;241m.\u001b[39mfailsafe_deserialize(_models\u001b[38;5;241m.\u001b[39mSearchError, pipeline_response)\n\u001b[1;32m    860\u001b[0m     \u001b[38;5;28;01mraise\u001b[39;00m HttpResponseError(response\u001b[38;5;241m=\u001b[39mresponse, model\u001b[38;5;241m=\u001b[39merror)\n",
            "File \u001b[0;32m/anaconda/envs/azureml_py38/lib/python3.8/site-packages/azure/core/exceptions.py:107\u001b[0m, in \u001b[0;36mmap_error\u001b[0;34m(status_code, response, error_map)\u001b[0m\n\u001b[1;32m    105\u001b[0m     \u001b[38;5;28;01mreturn\u001b[39;00m\n\u001b[1;32m    106\u001b[0m error \u001b[38;5;241m=\u001b[39m error_type(response\u001b[38;5;241m=\u001b[39mresponse)\n\u001b[0;32m--> 107\u001b[0m \u001b[38;5;28;01mraise\u001b[39;00m error\n",
            "\u001b[0;31mResourceNotFoundError\u001b[0m: Operation returned an invalid status 'Not Found'"
          ]
        }
      ],
      "execution_count": 70,
      "metadata": {
        "jupyter": {
          "source_hidden": false,
          "outputs_hidden": false
        },
        "nteract": {
          "transient": {
            "deleting": false
          }
        },
        "gather": {
          "logged": 1677872279670
        }
      }
    },
    {
      "cell_type": "code",
      "source": [
        "# FIX / UNDERSTAND SUGGESTER\r\n",
        "search_suggestion = 'sa'\r\n",
        "results = search_client.autocomplete(search_text=search_suggestion, suggester_name=\"sg\", mode='twoTerms')\r\n",
        "\r\n",
        "print(\"Autocomplete for:\", search_suggestion)\r\n",
        "for result in results:\r\n",
        "    print (result['text'])"
      ],
      "outputs": [],
      "execution_count": null,
      "metadata": {
        "jupyter": {
          "source_hidden": false,
          "outputs_hidden": false
        },
        "nteract": {
          "transient": {
            "deleting": false
          }
        }
      }
    },
    {
      "cell_type": "code",
      "source": [
        "try:\r\n",
        "    result = admin_client.delete_index(index_name)\r\n",
        "    print ('Index', index_name, 'Deleted')\r\n",
        "except Exception as ex:\r\n",
        "    print (ex)"
      ],
      "outputs": [],
      "execution_count": null,
      "metadata": {
        "jupyter": {
          "source_hidden": false,
          "outputs_hidden": false
        },
        "nteract": {
          "transient": {
            "deleting": false
          }
        }
      }
    },
    {
      "cell_type": "code",
      "source": [
        "try:\r\n",
        "    result = admin_client.get_index(index_name)\r\n",
        "    print (result)\r\n",
        "except Exception as ex:\r\n",
        "    print (ex)"
      ],
      "outputs": [],
      "execution_count": null,
      "metadata": {
        "jupyter": {
          "source_hidden": false,
          "outputs_hidden": false
        },
        "nteract": {
          "transient": {
            "deleting": false
          }
        }
      }
    }
  ],
  "metadata": {
    "kernelspec": {
      "name": "python38-azureml",
      "language": "python",
      "display_name": "Python 3.8 - AzureML"
    },
    "language_info": {
      "name": "python",
      "version": "3.8.10",
      "mimetype": "text/x-python",
      "codemirror_mode": {
        "name": "ipython",
        "version": 3
      },
      "pygments_lexer": "ipython3",
      "nbconvert_exporter": "python",
      "file_extension": ".py"
    },
    "microsoft": {
      "ms_spell_check": {
        "ms_spell_check_language": "en"
      },
      "host": {
        "AzureML": {
          "notebookHasBeenCompleted": true
        }
      }
    },
    "kernel_info": {
      "name": "python38-azureml"
    },
    "nteract": {
      "version": "nteract-front-end@1.0.0"
    }
  },
  "nbformat": 4,
  "nbformat_minor": 2
}